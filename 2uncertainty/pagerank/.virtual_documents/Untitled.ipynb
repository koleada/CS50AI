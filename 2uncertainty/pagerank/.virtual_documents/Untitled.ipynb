print("hello, world!")


import random 
print(random.random())
